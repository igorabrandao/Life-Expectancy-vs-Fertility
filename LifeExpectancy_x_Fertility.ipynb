{
 "cells": [
  {
   "cell_type": "markdown",
   "metadata": {},
   "source": [
    "# Programming Project - Unit 1,3\n",
    "*by Igor A. Brandão and Leandro Max*\n",
    "\n",
    "**Goals**\n",
    "- Analyse and generate visualization related to **Life Expectancy vs Fertility**\n",
    "- Storytelling using Bokeh & Python\n",
    "- Explore competences about data visualization"
   ]
  },
  {
   "cell_type": "code",
   "execution_count": 1,
   "metadata": {
    "collapsed": true
   },
   "outputs": [],
   "source": [
    "# Cell 01\n",
    "# Import pandas as pd\n",
    "import pandas as pd\n",
    "\n",
    "# Import the gapminder dataset to: data\n",
    "data = pd.read_csv(\"gapminder_tidy.csv\", encoding = 'latin2', index_col = 0)"
   ]
  },
  {
   "cell_type": "markdown",
   "metadata": {},
   "source": [
    "It is always a good idea to begin with some Exploratory Data Analysis. Pandas has a number of built-in methods that help with this. For example, **data.head()** displays the first five rows/entries of data, while **data.tail()** displays the last five rows/entries. **data.shape** gives you information about how many rows and columns there are in the data set. Another particularly useful method is **data.info()**, which provides a concise summary of data, including information about the number of entries, columns, data type of each column, and number of non-null entries in each column.\n",
    "\n"
   ]
  },
  {
   "cell_type": "code",
   "execution_count": 2,
   "metadata": {
    "collapsed": false,
    "scrolled": true
   },
   "outputs": [
    {
     "data": {
      "text/html": [
       "<div>\n",
       "<table border=\"1\" class=\"dataframe\">\n",
       "  <thead>\n",
       "    <tr style=\"text-align: right;\">\n",
       "      <th></th>\n",
       "      <th>Country</th>\n",
       "      <th>fertility</th>\n",
       "      <th>life</th>\n",
       "      <th>population</th>\n",
       "      <th>child_mortality</th>\n",
       "      <th>gdp</th>\n",
       "      <th>region</th>\n",
       "    </tr>\n",
       "    <tr>\n",
       "      <th>Year</th>\n",
       "      <th></th>\n",
       "      <th></th>\n",
       "      <th></th>\n",
       "      <th></th>\n",
       "      <th></th>\n",
       "      <th></th>\n",
       "      <th></th>\n",
       "    </tr>\n",
       "  </thead>\n",
       "  <tbody>\n",
       "    <tr>\n",
       "      <th>1964</th>\n",
       "      <td>Afghanistan</td>\n",
       "      <td>7.671</td>\n",
       "      <td>33.639</td>\n",
       "      <td>10474903.0</td>\n",
       "      <td>339.7</td>\n",
       "      <td>1182.0</td>\n",
       "      <td>South Asia</td>\n",
       "    </tr>\n",
       "    <tr>\n",
       "      <th>1965</th>\n",
       "      <td>Afghanistan</td>\n",
       "      <td>7.671</td>\n",
       "      <td>34.152</td>\n",
       "      <td>10697983.0</td>\n",
       "      <td>334.1</td>\n",
       "      <td>1182.0</td>\n",
       "      <td>South Asia</td>\n",
       "    </tr>\n",
       "    <tr>\n",
       "      <th>1966</th>\n",
       "      <td>Afghanistan</td>\n",
       "      <td>7.671</td>\n",
       "      <td>34.662</td>\n",
       "      <td>10927724.0</td>\n",
       "      <td>328.7</td>\n",
       "      <td>1168.0</td>\n",
       "      <td>South Asia</td>\n",
       "    </tr>\n",
       "    <tr>\n",
       "      <th>1967</th>\n",
       "      <td>Afghanistan</td>\n",
       "      <td>7.671</td>\n",
       "      <td>35.170</td>\n",
       "      <td>11163656.0</td>\n",
       "      <td>323.3</td>\n",
       "      <td>1173.0</td>\n",
       "      <td>South Asia</td>\n",
       "    </tr>\n",
       "    <tr>\n",
       "      <th>1968</th>\n",
       "      <td>Afghanistan</td>\n",
       "      <td>7.671</td>\n",
       "      <td>35.674</td>\n",
       "      <td>11411022.0</td>\n",
       "      <td>318.1</td>\n",
       "      <td>1187.0</td>\n",
       "      <td>South Asia</td>\n",
       "    </tr>\n",
       "  </tbody>\n",
       "</table>\n",
       "</div>"
      ],
      "text/plain": [
       "          Country  fertility    life  population  child_mortality     gdp  \\\n",
       "Year                                                                        \n",
       "1964  Afghanistan      7.671  33.639  10474903.0            339.7  1182.0   \n",
       "1965  Afghanistan      7.671  34.152  10697983.0            334.1  1182.0   \n",
       "1966  Afghanistan      7.671  34.662  10927724.0            328.7  1168.0   \n",
       "1967  Afghanistan      7.671  35.170  11163656.0            323.3  1173.0   \n",
       "1968  Afghanistan      7.671  35.674  11411022.0            318.1  1187.0   \n",
       "\n",
       "          region  \n",
       "Year              \n",
       "1964  South Asia  \n",
       "1965  South Asia  \n",
       "1966  South Asia  \n",
       "1967  South Asia  \n",
       "1968  South Asia  "
      ]
     },
     "execution_count": 2,
     "metadata": {},
     "output_type": "execute_result"
    }
   ],
   "source": [
    "# Cell 02\n",
    "data.head()"
   ]
  },
  {
   "cell_type": "code",
   "execution_count": 3,
   "metadata": {
    "collapsed": false
   },
   "outputs": [
    {
     "data": {
      "text/html": [
       "<div>\n",
       "<table border=\"1\" class=\"dataframe\">\n",
       "  <thead>\n",
       "    <tr style=\"text-align: right;\">\n",
       "      <th></th>\n",
       "      <th>Country</th>\n",
       "      <th>fertility</th>\n",
       "      <th>life</th>\n",
       "      <th>population</th>\n",
       "      <th>child_mortality</th>\n",
       "      <th>gdp</th>\n",
       "      <th>region</th>\n",
       "    </tr>\n",
       "    <tr>\n",
       "      <th>Year</th>\n",
       "      <th></th>\n",
       "      <th></th>\n",
       "      <th></th>\n",
       "      <th></th>\n",
       "      <th></th>\n",
       "      <th></th>\n",
       "      <th></th>\n",
       "    </tr>\n",
       "  </thead>\n",
       "  <tbody>\n",
       "    <tr>\n",
       "      <th>2002</th>\n",
       "      <td>Aland</td>\n",
       "      <td>NaN</td>\n",
       "      <td>81.80</td>\n",
       "      <td>26257.0</td>\n",
       "      <td>NaN</td>\n",
       "      <td>NaN</td>\n",
       "      <td>Europe &amp; Central Asia</td>\n",
       "    </tr>\n",
       "    <tr>\n",
       "      <th>2003</th>\n",
       "      <td>Aland</td>\n",
       "      <td>NaN</td>\n",
       "      <td>80.63</td>\n",
       "      <td>26347.0</td>\n",
       "      <td>NaN</td>\n",
       "      <td>NaN</td>\n",
       "      <td>Europe &amp; Central Asia</td>\n",
       "    </tr>\n",
       "    <tr>\n",
       "      <th>2004</th>\n",
       "      <td>Aland</td>\n",
       "      <td>NaN</td>\n",
       "      <td>79.88</td>\n",
       "      <td>26530.0</td>\n",
       "      <td>NaN</td>\n",
       "      <td>NaN</td>\n",
       "      <td>Europe &amp; Central Asia</td>\n",
       "    </tr>\n",
       "    <tr>\n",
       "      <th>2005</th>\n",
       "      <td>Aland</td>\n",
       "      <td>NaN</td>\n",
       "      <td>80.00</td>\n",
       "      <td>26766.0</td>\n",
       "      <td>NaN</td>\n",
       "      <td>NaN</td>\n",
       "      <td>Europe &amp; Central Asia</td>\n",
       "    </tr>\n",
       "    <tr>\n",
       "      <th>2006</th>\n",
       "      <td>Aland</td>\n",
       "      <td>NaN</td>\n",
       "      <td>80.10</td>\n",
       "      <td>26923.0</td>\n",
       "      <td>NaN</td>\n",
       "      <td>NaN</td>\n",
       "      <td>Europe &amp; Central Asia</td>\n",
       "    </tr>\n",
       "  </tbody>\n",
       "</table>\n",
       "</div>"
      ],
      "text/plain": [
       "     Country  fertility   life  population  child_mortality  gdp  \\\n",
       "Year                                                               \n",
       "2002   Aland        NaN  81.80     26257.0              NaN  NaN   \n",
       "2003   Aland        NaN  80.63     26347.0              NaN  NaN   \n",
       "2004   Aland        NaN  79.88     26530.0              NaN  NaN   \n",
       "2005   Aland        NaN  80.00     26766.0              NaN  NaN   \n",
       "2006   Aland        NaN  80.10     26923.0              NaN  NaN   \n",
       "\n",
       "                     region  \n",
       "Year                         \n",
       "2002  Europe & Central Asia  \n",
       "2003  Europe & Central Asia  \n",
       "2004  Europe & Central Asia  \n",
       "2005  Europe & Central Asia  \n",
       "2006  Europe & Central Asia  "
      ]
     },
     "execution_count": 3,
     "metadata": {},
     "output_type": "execute_result"
    }
   ],
   "source": [
    "# Cell 03\n",
    "data.tail()"
   ]
  },
  {
   "cell_type": "code",
   "execution_count": 4,
   "metadata": {
    "collapsed": false
   },
   "outputs": [
    {
     "data": {
      "text/plain": [
       "(10111, 7)"
      ]
     },
     "execution_count": 4,
     "metadata": {},
     "output_type": "execute_result"
    }
   ],
   "source": [
    "# Cell 04\n",
    "data.shape"
   ]
  },
  {
   "cell_type": "code",
   "execution_count": null,
   "metadata": {
    "collapsed": false
   },
   "outputs": [],
   "source": [
    "# Cell 05\n",
    "data.info()"
   ]
  },
  {
   "cell_type": "markdown",
   "metadata": {},
   "source": [
    "# Some exploratory plots of the data\n",
    "\n",
    "Now that we have the data ready, let's make a simple plot of Life Expectancy vs Fertility for the year 1970.\n",
    "\n",
    "Your job is to import the relevant Bokeh modules and then prepare a **ColumnDataSource** object with the **fertility**, **life** and **Country** columns, where you only select the rows with the index value **1970**.\n",
    "\n",
    "\n",
    "### Instructions\n",
    "\n",
    "- Import **output_notebook** and **show** from **bokeh.io**, **figure** from **bokeh.plotting**, and **HoverTool** and **ColumnDataSource** from **bokeh.models**.\n",
    "- Make a **ColumnDataSource** called **source** with **x** set to the fertility column, **y** set to the life column, **country** set to the Country column, **pop** to population column and **region** to region column. For all columns, select the rows with index value **1970**. This can be done using **data.loc[1970].column_name**"
   ]
  },
  {
   "cell_type": "code",
   "execution_count": null,
   "metadata": {
    "collapsed": true
   },
   "outputs": [],
   "source": [
    "# Cell 05\n",
    "\n",
    "# Perform necessary imports\n",
    "from ____ import ____, ____\n",
    "from ____ import ____\n",
    "from ____ import ____, ____\n",
    "\n",
    "# Make the ColumnDataSource: source\n",
    "source = ColumnDataSource(____={\n",
    "    'x'       : ____,\n",
    "    'y'       : ____,\n",
    "    'country' : ____,\n",
    "    'pop'     : ____,\n",
    "    'region'  : ____,\n",
    "})\n",
    "\n",
    "# Create the figure: p\n",
    "p = figure(title='1970', x_axis_label='Fertility (children per woman)', y_axis_label='Life Expectancy (years)',\n",
    "           plot_height=400, plot_width=700,\n",
    "           tools=[HoverTool(tooltips='@country')])\n",
    "\n",
    "# Add a circle glyph to the figure p\n",
    "p.circle(x='x', y='y', fill_alpha=0.8, source=source)\n",
    "\n",
    "# Output the file and show the figure\n",
    "output_notebook\n",
    "show(p)"
   ]
  },
  {
   "cell_type": "markdown",
   "metadata": {},
   "source": [
    "# Enhancing the plot with some shading\n",
    "\n",
    "Now that we have the base plot ready, let's color each circle glyph by continent.\n",
    "\n",
    "Your job is to make a list of the unique regions from the data frame, prepare a **ColorMapper**, and add it to the **circle** glyph.\n",
    "\n",
    "### Instructions\n",
    "\n",
    "- Make a list of the unique values from the **region** column. You can use the **unique()** and **tolist()** methods on **data.region** to do this.\n",
    "- Import **CategoricalColorMapper** from **bokeh.models** and the **Spectral6** palette from **bokeh.palettes**.\n",
    "- Use the **CategoricalColorMapper()** function to make a color mapper called **color_mapper** with **factors=regions_list** and **palette=Spectral6**.\n",
    "- Add the **color** mapper to the circle glyph as a dictionary with **dict(field='region', transform=color_mapper)** as the argument passed to the color parameter of **p.circle()**. Also set the **legend** parameter to be the **'region'**.\n",
    "- Set the **legend.location** attribute of plot to **'bottom_left'**\n"
   ]
  },
  {
   "cell_type": "code",
   "execution_count": null,
   "metadata": {
    "collapsed": true
   },
   "outputs": [],
   "source": [
    "# Cell 06\n",
    "\n",
    "# Make a list of the unique values from the region column: regions_list\n",
    "regions_list = ____\n",
    "\n",
    "# Import CategoricalColorMapper from bokeh.models and the Spectral6 palette from bokeh.palettes\n",
    "from bokeh.models import ____\n",
    "from bokeh.palettes import ____\n",
    "\n",
    "# Make a color mapper: color_mapper\n",
    "color_mapper = ____(____=____, ____=____)\n",
    "\n",
    "# Add the color mapper to the circle glyph\n",
    "p.circle(x='x', y='y', fill_alpha=0.8, source=source,\n",
    "            ____=____(____=____, ____=____), ____=____)\n",
    "\n",
    "# Set the legend.location attribute of the plot to 'top_right'\n",
    "____ = 'bottom_left'\n",
    "\n",
    "# Output the file and show the figure\n",
    "output_notebook()\n",
    "show(p)"
   ]
  },
  {
   "cell_type": "markdown",
   "metadata": {},
   "source": [
    "# All in one\n",
    "\n",
    "Until now, we've been plotting data only for 1970. In this exercise, you'll add a slider to your plot to change the year being plotted. To do this, you'll create an **update_plot()** function and associate it with a slider to select values between 1970 and 2013.\n",
    "\n",
    "After you are done, you may have to scroll to the right to view the entire plot."
   ]
  },
  {
   "cell_type": "code",
   "execution_count": null,
   "metadata": {
    "collapsed": true
   },
   "outputs": [],
   "source": [
    "# Cell 07 - This cell is the same of cell 05, just repeat here the same empty steps\n",
    "\n",
    "# Perform necessary imports\n",
    "from ____ import ____, ____\n",
    "from ____ import ____\n",
    "from ____ import ____, ____\n",
    "\n",
    "# Make the ColumnDataSource: source\n",
    "source = ColumnDataSource(____={\n",
    "    'x'       : ____,\n",
    "    'y'       : ____,\n",
    "    'country' : ____,\n",
    "    'pop'     : ____,\n",
    "    'region'  : ____,\n",
    "})\n",
    "\n",
    "# Create the figure: p\n",
    "p = figure(title='1970', x_axis_label='Fertility (children per woman)', y_axis_label='Life Expectancy (years)',\n",
    "           plot_height=400, plot_width=700,\n",
    "           tools=[HoverTool(tooltips='@country')])\n"
   ]
  },
  {
   "cell_type": "code",
   "execution_count": null,
   "metadata": {
    "collapsed": true
   },
   "outputs": [],
   "source": [
    "# Cell 08 - This cell is the same of cell 06, just repeat here the same empty steps\n",
    "\n",
    "# Make a list of the unique values from the region column: regions_list\n",
    "regions_list = ____\n",
    "\n",
    "# Import CategoricalColorMapper from bokeh.models and the Spectral6 palette from bokeh.palettes\n",
    "from bokeh.models import ____\n",
    "from bokeh.palettes import ____\n",
    "\n",
    "# Make a color mapper: color_mapper\n",
    "color_mapper = ____(____=____, ____=____)\n",
    "\n",
    "# Add the color mapper to the circle glyph\n",
    "p.circle(x='x', y='y', fill_alpha=0.8, source=source,\n",
    "            ____=____(____=____, ____=____), ____=____)\n",
    "\n",
    "# Set the legend.location attribute of the plot to 'top_right'\n",
    "____ = 'bottom_left'"
   ]
  },
  {
   "cell_type": "markdown",
   "metadata": {},
   "source": [
    "## Instructions\n",
    "\n",
    "- Import the **widgetbox** and **row** functions from **bokeh.layouts**, and the **Slider** function from **bokeh.models**.\n",
    "- Import **HoverTool** from **bokeh.models**.\n",
    "- Define the **update_plot** callback function with parameters **attr**, **old** and **new**.\n",
    "- Set the **yr** name to **slider.value** and set **source.data = new_data**.\n",
    "- Create a **HoverTool** object called **hover** with **tooltips=[('Country', '@country')]**.\n",
    "- Add the **HoverTool** object you created to the plot using **add_tools()**.\n",
    "- Make a slider object called **slider** using the **Slider()** function with a **start** year of 1970, **end** year of 2013, **step** of 1, **value** of 1970, and **title** of **'Year'**.\n",
    "- Attach the callback to the **'value'** property of slider. This can be done using **on_change()** and passing in **'value'** and **update_plot**.\n",
    "- Make a **row** layout of **widgetbox(slider)** and **p** and add it to the current document."
   ]
  },
  {
   "cell_type": "code",
   "execution_count": null,
   "metadata": {
    "collapsed": true
   },
   "outputs": [],
   "source": [
    "# Cell 09\n",
    "\n",
    "# Import the necessary modules\n",
    "from bokeh.layouts import ____, ____\n",
    "from bokeh.models import ____\n",
    "\n",
    "# Import HoverTool from bokeh.models\n",
    "from bokeh.models import _____\n",
    "\n",
    "\n",
    "def modify_doc(doc):   \n",
    "    # Define the callback function: update_plot\n",
    "    ____ update_plot(___, ___, ___):\n",
    "        # set the `yr` name to `slider.value` and `source.data = new_data`\n",
    "        yr = _______\n",
    "        new_data = {\n",
    "            'x'       : data.loc[yr].fertility,\n",
    "            'y'       : data.loc[yr].life,\n",
    "            'country' : data.loc[yr].Country,\n",
    "            'pop'     : data.loc[yr].population,\n",
    "            'region'  : data.loc[yr].region,\n",
    "        }\n",
    "        _____ = _____\n",
    "        \n",
    "        # Add title to figure: plot.title.text\n",
    "        p.title.text = 'Gapminder data for %d' % yr\n",
    "        \n",
    "    # Create a HoverTool: hover\n",
    "    hover = _____(_____)\n",
    "\n",
    "    # Add the HoverTool to the plot\n",
    "    p.____(____)\n",
    "\n",
    "    # Make a slider object: slider\n",
    "    slider = _________\n",
    "\n",
    "\n",
    "    # Attach the callback to the 'value' property of slider\n",
    "    ________\n",
    "    \n",
    "    # Add the color mapper to the circle glyph\n",
    "    p.circle(x='x', y='y', fill_alpha=0.8, source=source,\n",
    "            color=dict(field='region', transform=color_mapper), legend='region')\n",
    "\n",
    "    # Set the legend.location attribute of the plot to 'top_right'\n",
    "    p.legend.location = 'bottom_left'\n",
    "\n",
    "    # Make a row layout of widgetbox(slider) and p and add it to the current document\n",
    "    layout = row(____,____)\n",
    "    \n",
    "    doc.add_root(____)"
   ]
  },
  {
   "cell_type": "code",
   "execution_count": null,
   "metadata": {
    "collapsed": true
   },
   "outputs": [],
   "source": [
    "# Cell 10\n",
    "\n",
    "from bokeh.application.handlers import FunctionHandler\n",
    "from bokeh.application import Application\n",
    "\n",
    "handler = FunctionHandler(modify_doc)\n",
    "app = Application(handler)\n",
    "\n",
    "from tornado.ioloop import IOLoop\n",
    "loop = IOLoop.current()"
   ]
  },
  {
   "cell_type": "code",
   "execution_count": null,
   "metadata": {
    "collapsed": true
   },
   "outputs": [],
   "source": [
    "# Cell 11\n",
    "\n",
    "def show_app(app, notebook_url=\"127.0.0.1:8888\"):\n",
    "    from IPython.display import HTML, display\n",
    "    from bokeh.embed import autoload_server\n",
    "    from bokeh.server.server import Server\n",
    "    \n",
    "    server = Server({'/': app}, io_loop=loop, port=0, host='*', allow_websocket_origin=[notebook_url])\n",
    "    server.start()\n",
    "    \n",
    "    script = autoload_server(model=None, url='http://127.0.0.1:%d' % server.port)\n",
    "    \n",
    "    display(HTML(script))"
   ]
  },
  {
   "cell_type": "code",
   "execution_count": null,
   "metadata": {
    "collapsed": true
   },
   "outputs": [],
   "source": [
    "# Cell 12\n",
    "\n",
    "show_app(app)"
   ]
  },
  {
   "cell_type": "markdown",
   "metadata": {},
   "source": [
    "As a final step in enhancing your application, in this exercise you will add dropdowns for interactively selecting different data features. In combination with the hover tool you added in the previous exercise, as well as the slider to change the year, you will have a powerful app that allows you to interactively and quickly extract some great insights from the dataset!\n",
    "\n",
    "```Python\n",
    "   # Create a dropdown Select widget for the x data: x_select\n",
    "   x_select = Select(\n",
    "     options=['fertility', 'life', 'child_mortality', 'gdp'],\n",
    "     value='fertility',\n",
    "     title='x-axis data'\n",
    "   )\n",
    "```\n",
    "```Python\n",
    "    # Create a dropdown Select widget for the y data: y_select\n",
    "    y_select = Select(\n",
    "        options=['fertility', 'life', 'child_mortality', 'gdp'],\n",
    "        value='life',\n",
    "        title='y-axis data'\n",
    "    )\n",
    "```\n",
    "![TODO](https://drive.google.com/uc?export=view&id=0BxhVm1REqwr0VnFsU0NxVEZKVk0)"
   ]
  },
  {
   "cell_type": "code",
   "execution_count": null,
   "metadata": {
    "collapsed": true
   },
   "outputs": [],
   "source": []
  }
 ],
 "metadata": {
  "kernelspec": {
   "display_name": "Python 3",
   "language": "python",
   "name": "python3"
  },
  "language_info": {
   "codemirror_mode": {
    "name": "ipython",
    "version": 3
   },
   "file_extension": ".py",
   "mimetype": "text/x-python",
   "name": "python",
   "nbconvert_exporter": "python",
   "pygments_lexer": "ipython3",
   "version": "3.6.0"
  }
 },
 "nbformat": 4,
 "nbformat_minor": 2
}
